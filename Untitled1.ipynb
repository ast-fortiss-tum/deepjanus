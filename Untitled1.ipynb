{
 "cells": [
  {
   "cell_type": "code",
   "execution_count": 1,
   "id": "c0bf2516-a734-4699-a6a2-921be433f918",
   "metadata": {},
   "outputs": [
    {
     "name": "stdout",
     "output_type": "stream",
     "text": [
      "/home/xchen/Projects/deepjanus-usi/deepjanus\n"
     ]
    }
   ],
   "source": [
    "import os\n",
    "print(os.getcwd())"
   ]
  },
  {
   "cell_type": "code",
   "execution_count": 2,
   "id": "09781997-c837-49f3-a97c-dcd169dd64c9",
   "metadata": {},
   "outputs": [
    {
     "ename": "ModuleNotFoundError",
     "evalue": "No module named 'predictor'",
     "output_type": "error",
     "traceback": [
      "\u001b[0;31m---------------------------------------------------------------------------\u001b[0m",
      "\u001b[0;31mModuleNotFoundError\u001b[0m                       Traceback (most recent call last)",
      "Cell \u001b[0;32mIn[2], line 1\u001b[0m\n\u001b[0;32m----> 1\u001b[0m \u001b[38;5;28;01mfrom\u001b[39;00m \u001b[38;5;21;01mpredictor\u001b[39;00m \u001b[38;5;28;01mimport\u001b[39;00m Predictor\n",
      "\u001b[0;31mModuleNotFoundError\u001b[0m: No module named 'predictor'"
     ]
    }
   ],
   "source": [
    "from predictor import Predictor"
   ]
  },
  {
   "cell_type": "code",
   "execution_count": 3,
   "id": "81cff5d4-7d19-421c-a2fb-65e48d49bf54",
   "metadata": {},
   "outputs": [
    {
     "name": "stdout",
     "output_type": "stream",
     "text": [
      "CONTACT.md        \u001b[0m\u001b[01;34mDeepJanus-SVHN\u001b[0m/       INSTALL.md  Untitled.ipynb   \u001b[01;34mimages\u001b[0m/\n",
      "\u001b[01;34mDeepJanus-BNG\u001b[0m/    \u001b[01;34mDeepJanus-SVHN-gray\u001b[0m/  LICENSE     Untitled1.ipynb  index.md\n",
      "\u001b[01;34mDeepJanus-MNIST\u001b[0m/  \u001b[01;34mDeepJanus-UE\u001b[0m/         README.md   \u001b[01;34mexperiments\u001b[0m/\n"
     ]
    }
   ],
   "source": [
    "ls\n"
   ]
  },
  {
   "cell_type": "code",
   "execution_count": null,
   "id": "c34af014-d710-4290-af19-63e8b05e3678",
   "metadata": {},
   "outputs": [],
   "source": []
  }
 ],
 "metadata": {
  "kernelspec": {
   "display_name": "Python 3 (ipykernel)",
   "language": "python",
   "name": "python3"
  },
  "language_info": {
   "codemirror_mode": {
    "name": "ipython",
    "version": 3
   },
   "file_extension": ".py",
   "mimetype": "text/x-python",
   "name": "python",
   "nbconvert_exporter": "python",
   "pygments_lexer": "ipython3",
   "version": "3.8.18"
  }
 },
 "nbformat": 4,
 "nbformat_minor": 5
}
